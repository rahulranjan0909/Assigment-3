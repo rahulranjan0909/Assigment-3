{
 "cells": [
  {
   "cell_type": "code",
   "execution_count": 2,
   "metadata": {},
   "outputs": [
    {
     "name": "stdout",
     "output_type": "stream",
     "text": [
      "Enter numbers to sum\n",
      "3\n",
      "2\n",
      "3\n",
      "4\n",
      "9\n"
     ]
    }
   ],
   "source": [
    "#Reduce on sum function\n",
    "def myreduce(add,list_1):\n",
    "    return a\n",
    "def add(a,b):\n",
    "    return a+b\n",
    "list_1=[]\n",
    "print(\"Enter numbers to sum\")\n",
    "n=int(input())\n",
    "for i in range(1,n+1):\n",
    "    l=int(input())\n",
    "    list_1.append(l)\n",
    "\n",
    "a=list_1[0]\n",
    "for i in range(1,len(list_1)):\n",
    "    b=list_1[i]\n",
    "    a=add(a,b)\n",
    "list_1=[1,2,3]    \n",
    "print(myreduce(add,list_1))"
   ]
  },
  {
   "cell_type": "code",
   "execution_count": 5,
   "metadata": {},
   "outputs": [
    {
     "name": "stdout",
     "output_type": "stream",
     "text": [
      "[3, 5, 7, 9]\n"
     ]
    }
   ],
   "source": [
    "#filter of od values\n",
    "def myfilter(odd,list2):\n",
    "    return oddf(a)\n",
    "list2=[2,3,4,5,6,7,8,9,10]\n",
    "list3=[]\n",
    "def oddf(a):\n",
    "    for i in list2:\n",
    "        if i%2!=0:\n",
    "            list3.append(i)\n",
    "    print(list3)\n",
    "myfilter(oddf,list2)"
   ]
  },
  {
   "cell_type": "code",
   "execution_count": 6,
   "metadata": {},
   "outputs": [
    {
     "name": "stdout",
     "output_type": "stream",
     "text": [
      "['x', 'xx', 'xxx', 'xxxx', 'y', 'yy', 'yyy', 'yyyy', 'z', 'zz', 'zzz', 'zzzz']\n"
     ]
    }
   ],
   "source": [
    "z=[]\n",
    "for n in [\"x\",\"y\",\"z\"]:\n",
    "    for i in range(1,5):\n",
    "        z.append(n*i)\n",
    "print(z)"
   ]
  },
  {
   "cell_type": "code",
   "execution_count": 10,
   "metadata": {},
   "outputs": [
    {
     "name": "stdout",
     "output_type": "stream",
     "text": [
      "['x', 'y', 'z', 'xx', 'yy', 'zz', 'xxx', 'yyy', 'zzz', 'xxxx', 'yyyy', 'zzzz']\n"
     ]
    }
   ],
   "source": [
    "z=[]\n",
    "for i in range(1,5):\n",
    "    for n in [\"x\",\"y\",\"z\"]:\n",
    "        z.append(n*i)\n",
    "print(z)"
   ]
  },
  {
   "cell_type": "code",
   "execution_count": 8,
   "metadata": {},
   "outputs": [
    {
     "name": "stdout",
     "output_type": "stream",
     "text": [
      "[(1, 1), (2, 1), (3, 1), (1, 2), (2, 2), (3, 2), (1, 3), (2, 3), (3, 3)]\n"
     ]
    }
   ],
   "source": [
    "z=[]\n",
    "for y in range(1,4):\n",
    " l= [(x, y) for x in [1,2,3]]\n",
    " z.extend(l)\n",
    "print(z)"
   ]
  },
  {
   "cell_type": "code",
   "execution_count": 11,
   "metadata": {},
   "outputs": [
    {
     "name": "stdout",
     "output_type": "stream",
     "text": [
      "[[[2], [3], [4], [3], [4], [5], [4], [5], [6]], [[2], [3], [4], [5], [3], [4], [5], [6], [4], [5], [6], [7], [5], [6], [7], [8]]]\n"
     ]
    }
   ],
   "source": [
    "z=[]\n",
    "list1 = [[x+y] for x in range(2,5) for y in range(3)]\n",
    "z.append(list1)\n",
    "list2=[[x+y] for x in range(2,6) for y in range(4)]\n",
    "z.append(list2)\n",
    "print(z)"
   ]
  },
  {
   "cell_type": "code",
   "execution_count": null,
   "metadata": {},
   "outputs": [],
   "source": []
  }
 ],
 "metadata": {
  "kernelspec": {
   "display_name": "Python 3",
   "language": "python",
   "name": "python3"
  },
  "language_info": {
   "codemirror_mode": {
    "name": "ipython",
    "version": 3
   },
   "file_extension": ".py",
   "mimetype": "text/x-python",
   "name": "python",
   "nbconvert_exporter": "python",
   "pygments_lexer": "ipython3",
   "version": "3.8.5"
  }
 },
 "nbformat": 4,
 "nbformat_minor": 4
}
